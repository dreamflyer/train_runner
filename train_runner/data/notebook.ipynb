{
 "cells": [
  {
   "cell_type": "code",
   "execution_count": null,
   "metadata": {},
   "outputs": [],
   "source": [
    "from tqdm import tqdm\n",
    "import requests\n",
    "import os\n",
    "import shutil\n",
    "import zipfile\n",
    "\n",
    "url = \"http://server/kernel/kernel_id\"\n",
    "\n",
    "if os.path.exists(\"/kaggle/input/kernel_ref/project\"):\n",
    "    shutil.copytree(\"/kaggle/input/kernel_ref/project\", \"/kaggle/working/project\")\n",
    "else:\n",
    "    response = requests.get(url, stream=True)\n",
    "    \n",
    "    with open(\"/kaggle/working/project.zip\", \"wb\") as handle:\n",
    "        for data in tqdm(response.iter_content()):\n",
    "            handle.write(data)\n",
    "        \n",
    "    with zipfile.ZipFile(\"/kaggle/working/project.zip\") as zip:\n",
    "        zip.extractall(\"/kaggle/working\")\n",
    "    \n",
    "    os.remove(\"/kaggle/working/project.zip\")"
   ]
  },
  {
   "cell_type": "code",
   "execution_count": null,
   "metadata": {
    "trusted": true
   },
   "outputs": [],
   "source": [
    "!pip uninstall --yes imgaug\n",
    "!pip install imgaug\n",
    "!pip uninstall --yes keras\n",
    "!pip install git+https://github.com/keras-team/keras.git@9e99fcfefc1edd8ca9f423d3f374dd96ffe2e636\n",
    "!pip install py4j\n",
    "!pip install git+https://github.com/musket-ml/musket_core.git\n",
    "!pip install git+https://github.com/musket-ml/classification_training_pipeline.git\n",
    "!pip install git+https://github.com/musket-ml/segmentation_training_pipeline.git\n",
    "!pip install git+https://github.com/dreamflyer/process_streamer.git\n",
    "!pip install kapre\n",
    "!pip install kaggle\n",
    "!python /opt/conda/lib/python3.6/site-packages/process_streamer/main.py /opt/conda/lib/python3.6/site-packages/musket_core/fit.py /kaggle/working/project http://server/kernel/log/kernel_id 10 folds_argument timer_argument"
   ]
  }
 ],
 "metadata": {
  "kernelspec": {
   "display_name": "Python 3",
   "language": "python",
   "name": "python3"
  },
  "language_info": {
   "name": "python",
   "version": "3.6.4",
   "mimetype": "text/x-python",
   "codemirror_mode": {
    "name": "ipython",
    "version": 3
   },
   "pygments_lexer": "ipython3",
   "nbconvert_exporter": "python",
   "file_extension": ".py"
  }
 },
 "nbformat": 4,
 "nbformat_minor": 1
}
