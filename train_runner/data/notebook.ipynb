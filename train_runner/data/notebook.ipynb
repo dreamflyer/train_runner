{
 "cells": [
  {
   "cell_type": "code",
   "execution_count": null,
   "metadata": {},
   "outputs": [],
   "source": [
    "from tqdm import tqdm\n",
    "import requests\n",
    "\n",
    "url = \"http://server/kernel/kernel_id\"\n",
    "\n",
    "response = requests.get(url, stream=True)\n",
    "\n",
    "with open(\"/kaggle/working/project.zip\", \"wb\") as handle:\n",
    "    for data in tqdm(response.iter_content()):\n",
    "        handle.write(data)"
   ]
  },
  {
   "cell_type": "code",
   "execution_count": null,
   "metadata": {
    "trusted": true
   },
   "outputs": [],
   "source": [
    "!unzip /kaggle/working/project.zip\n",
    "!rm /kaggle/working/project.zip\n",
    "!pip uninstall --yes keras\n",
    "!pip install git+https://github.com/keras-team/keras.git\n",
    "!pip install py4j\n",
    "!pip install git+https://github.com/musket-ml/musket_core.git\n",
    "!pip install git+https://github.com/musket-ml/classification_training_pipeline.git\n",
    "!pip install git+https://github.com/musket-ml/segmentation_training_pipeline.git\n",
    "!pip install git+https://github.com/dreamflyer/process_streamer.git\n",
    "!pip install kapre\n",
    "!python /opt/conda/lib/python3.6/site-packages/musket_core/fit.py --project /kaggle/working/project --name experiment --allow_resume True"
   ]
  }
 ],
 "metadata": {
  "kernelspec": {
   "display_name": "Python 3",
   "language": "python",
   "name": "python3"
  },
  "language_info": {
   "name": "python",
   "version": "3.6.4",
   "mimetype": "text/x-python",
   "codemirror_mode": {
    "name": "ipython",
    "version": 3
   },
   "pygments_lexer": "ipython3",
   "nbconvert_exporter": "python",
   "file_extension": ".py"
  }
 },
 "nbformat": 4,
 "nbformat_minor": 1
}
